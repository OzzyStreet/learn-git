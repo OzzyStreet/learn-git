{
  "nbformat": 4,
  "nbformat_minor": 0,
  "metadata": {
    "colab": {
      "name": "git cheatsheet aliases.ipynb",
      "provenance": []
    },
    "kernelspec": {
      "name": "python3",
      "display_name": "Python 3"
    }
  },
  "cells": [
    {
      "cell_type": "markdown",
      "metadata": {
        "id": "Malp5X82JwxV",
        "colab_type": "text"
      },
      "source": [
        "| scenario | alias  | command |\n",
        "|:---------|:-------|:--------|\n",
        "| show last commit | `git last` | `git log -1 HEAD` |\n",
        "| unstage a file | `git unstage` | `git reset HEAD --` |\n",
        "| short log | `git l` | `git log --pretty=format:\"%C(yellow)%h\\\\ %ad%Cred%d\\\\ %Creset%s%Cblue\\\\ [%cn]\" --decorate --date=short` |\n",
        "| more verbose log showing the names of changed files | `git ll` |  `git log --pretty=format:\"%C(yellow)%h%Cred%d\\\\ %Creset%s%Cblue\\\\ [%cn]\" --decorate --numstat`\n",
        "| short log with graph | `git lg` | `git log --graph --abbrev-commit --decorate --format=format:'%C(bold blue)%h%C(reset) - %C(bold green)(%ar)%C(reset) %C(white)%s%C(reset) %C(dim white)- %an%C(reset)%C(bold yellow)%d%C(reset)' --all` |\n",
        "| more verbose log with graph | `git log2` | `git log --graph --abbrev-commit --decorate --format=format:'%C(bold blue)%h%C(reset) - %C(bold cyan)%aD%C(reset) %C(bold green)(%ar)%C(reset)%C(bold yellow)%d%C(reset)%n''          %C(white)%s%C(reset) %C(dim white)- %an%C(reset)' --all` |\n",
        "| list branches by last modified | `git b` | `git for-each-ref --sort='-authordate' --format='%(authordate) %(objectname:short) %(authorname) %(refname)' refs/heads \\| sed -e 's-refs/heads/--'` |\n",
        "| undo last commit | `git undo-commit` | `git reset --soft HEAD~1` |\n"
      ]
    },
    {
      "cell_type": "markdown",
      "metadata": {
        "id": "Sd8UX_zh19dI",
        "colab_type": "text"
      },
      "source": [
        "# Diffs\n",
        "> use `git log -p` to see diffs in the log <br>\n",
        "\n",
        "![](https://i.stack.imgur.com/tVHYO.png)\n"
      ]
    },
    {
      "cell_type": "code",
      "metadata": {
        "id": "ZYWo2vUqTDfM",
        "colab_type": "code",
        "colab": {
          "base_uri": "https://localhost:8080/",
          "height": 51
        },
        "outputId": "396cb476-7e07-472d-a45a-b431194fc7d5"
      },
      "source": [
        ""
      ],
      "execution_count": 2,
      "outputs": [
        {
          "output_type": "stream",
          "text": [
            "/bin/bash: -c: line 0: syntax error near unexpected token `https://i.stack.imgur.com/tVHYO.png'\n",
            "/bin/bash: -c: line 0: `[](https://i.stack.imgur.com/tVHYO.png)'\n"
          ],
          "name": "stdout"
        }
      ]
    },
    {
      "cell_type": "code",
      "metadata": {
        "id": "uv99r1UR17D6",
        "colab_type": "code",
        "colab": {}
      },
      "source": [
        ""
      ],
      "execution_count": 0,
      "outputs": []
    }
  ]
}