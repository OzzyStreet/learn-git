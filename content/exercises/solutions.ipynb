{
 "cells": [
  {
   "cell_type": "markdown",
   "metadata": {},
   "source": [
    "\n",
    "<a href=\"https://colab.research.google.com/github/aviadr1/learn-git/blob/master/content/exercises/solutions.ipynb\" target=\"_blank\">\n",
    "<img src=\"https://colab.research.google.com/assets/colab-badge.svg\" \n",
    "     title=\"Open this file in Google Colab\" alt=\"Colab\"/>\n",
    "</a>\n"
   ]
  },
  {
   "cell_type": "code",
   "execution_count": 142,
   "metadata": {
    "colab": {
     "base_uri": "https://localhost:8080/",
     "height": 17
    },
    "colab_type": "code",
    "id": "vKcKWyvmnk_Q",
    "outputId": "08b8ac97-00e1-44d4-cd1b-89c2eba0fdc8"
   },
   "outputs": [
    {
     "data": {
      "text/html": [
       "<script src='https://cdnjs.cloudflare.com/ajax/libs/gitgraph.js/1.11.4/gitgraph.min.js'></script>"
      ],
      "text/plain": [
       "<IPython.core.display.HTML object>"
      ]
     },
     "metadata": {
      "tags": []
     },
     "output_type": "display_data"
    }
   ],
   "source": [
    "from pathlib import Path"
   ]
  },
  {
   "cell_type": "markdown",
   "metadata": {
    "colab_type": "text",
    "id": "1-8gyTFQ3z_H"
   },
   "source": [
    "Run this script to get the exercises"
   ]
  },
  {
   "cell_type": "code",
   "execution_count": 19,
   "metadata": {
    "colab": {
     "base_uri": "https://localhost:8080/",
     "height": 155
    },
    "colab_type": "code",
    "id": "h8xksKreE7qm",
    "outputId": "db4dd780-410b-41c3-bf71-3544548713d6"
   },
   "outputs": [
    {
     "name": "stdout",
     "output_type": "stream",
     "text": [
      "/content\n",
      "Cloning into 'exercises'...\n",
      "remote: Counting objects: 135, done.\u001b[K\n",
      "remote: Compressing objects: 100% (104/104), done.\u001b[K\n",
      "remote: Total 135 (delta 28), reused 135 (delta 28)\u001b[K\n",
      "Receiving objects: 100% (135/135), 31.75 KiB | 7.94 MiB/s, done.\n",
      "Resolving deltas: 100% (28/28), done.\n",
      "/content/exercises\n"
     ]
    }
   ],
   "source": [
    "%cd /content/\n",
    "!rm -rf exercises\n",
    "\n",
    "!git clone https://gitexercises.fracz.com/git/exercises.git\n",
    "\n",
    "%cd exercises"
   ]
  },
  {
   "cell_type": "markdown",
   "metadata": {
    "colab_type": "text",
    "id": "LSU85fzX34Df"
   },
   "source": [
    "# configure your name/email"
   ]
  },
  {
   "cell_type": "code",
   "execution_count": 0,
   "metadata": {
    "colab": {},
    "colab_type": "code",
    "id": "p_hXOZSQ7lP7"
   },
   "outputs": [],
   "source": [
    "!git config user.name \"yourname\"\n",
    "!git config user.email \"youremail@gmail.com\""
   ]
  },
  {
   "cell_type": "markdown",
   "metadata": {
    "colab_type": "text",
    "id": "GniKAgubK3k9"
   },
   "source": [
    "# install aliases\n",
    "install aliases for all the common commands we've shown in the notebook.\n",
    "> for instance, to install the `git unstage` alias, which translates to `git reset HEAD --` run the following command:\n",
    "  ```\n",
    "  git config --global alias.unstage 'reset HEAD --'`\n",
    "  ```\n",
    "\n",
    "install these aliases :\n",
    "1. `git alias`\n",
    "1. `git unstage`\n",
    "2. `git last`\n",
    "3. `git l`\n",
    "4. `git lg`\n",
    "4. `git lg2`\n"
   ]
  },
  {
   "cell_type": "code",
   "execution_count": 137,
   "metadata": {
    "colab": {
     "base_uri": "https://localhost:8080/",
     "height": 278
    },
    "colab_type": "code",
    "id": "Q61HCdIBLps4",
    "outputId": "ca9fb7b1-f6b2-4e52-d7ad-c0ee8a2c4357"
   },
   "outputs": [
    {
     "data": {
      "text/html": [
       "<script src='https://cdnjs.cloudflare.com/ajax/libs/gitgraph.js/1.11.4/gitgraph.min.js'></script>"
      ],
      "text/plain": [
       "<IPython.core.display.HTML object>"
      ]
     },
     "metadata": {
      "tags": []
     },
     "output_type": "display_data"
    },
    {
     "name": "stdout",
     "output_type": "stream",
     "text": [
      "unstage = reset HEAD --\n",
      "last = log -1 HEAD\n",
      "alias = ! git config --get-regexp ^alias\\. | sed -e s/^alias\\.// -e s/\\ /\\ =\\ /\n",
      "l = log --pretty=format:\"%C(yellow)%h\\\\ %ad%Cred%d\\\\ %Creset%s%Cblue\\\\ [%cn]\" --decorate --date=short\n",
      "ll = log --pretty=format:\"%C(yellow)%h%Cred%d\\\\ %Creset%s%Cblue\\\\ [%cn]\" --decorate --numstat\n",
      "graphviz = !f() { echo 'digraph git {' ; git log --pretty='format:  %h -> { %p }' \"\" | sed 's/[0-9a-f][0-9a-f]*/\"&\"/g' ; echo '}'; }; f\n",
      "lg3-specific = log --graph --abbrev-commit --decorate --format=format:'%C(bold blue)%h%C(reset) - %C(bold cyan)%aD%C(reset) %C(bold green)(%ar)%C(reset) %C(bold cyan)(committed: %cD)%C(reset) %C(auto)%d%C(reset)%n''          %C(white)%s%C(reset)%n''          %C(dim white)- %an <%ae> %C(reset) %C(dim white)(committer: %cn <%ce>)%C(reset)'\n",
      "lg3 = !git lg3-specific --all\n",
      "lg = !git lg1\n",
      "lg2 = log --graph --abbrev-commit --decorate --format=format:'%C(bold blue)%h%C(reset) - %C(bold cyan)%aD%C(reset) %C(bold green)(%ar)%C(reset)%C(bold yellow)%d%C(reset)%n''          %C(white)%s%C(reset) %C(dim white)- %an%C(reset)' --all\n",
      "lg1 = log --graph --abbrev-commit --decorate --format=format:'%C(bold blue)%h%C(reset) - %C(bold green)(%ar)%C(reset) %C(white)%s%C(reset) %C(dim white)- %an%C(reset)%C(bold yellow)%d%C(reset)' --all\n",
      "start = ! f() { currentBranch=$(git rev-parse --abbrev-ref HEAD); exercise=${1-$currentBranch}; if [ $exercise != HEAD ]; then if [ $exercise != next ]; then if git show origin/$exercise:start.sh >/dev/null 2>&1 ; then if git checkout -f $exercise >/dev/null 2>&1 && git reset --hard origin/$exercise >/dev/null 2>&1 && git clean -fdx >/dev/null ; then if echo \"Preparing the exercise environment, hold on...\" && ./start.sh >/dev/null 2>&1; then echo \"Exercise $exercise started!\" && echo 'Read the README.md for instructions or view them in browser:' && echo \"http://gitexercises.fracz.com/e/$exercise\" ; else echo 'Could not execute the start script.' && echo 'Try running the ./start.sh script yourself.' ; fi else echo 'Could not clean the working directory.' && echo 'Make sure that none of the files inside the working directory' && echo 'is used by another process and run git start again.'; fi else echo \"Invalid exercise: $exercise\" && false; fi else git push origin HEAD:next-exercise 2>&1 | sed -n '/\\*\\*\\*/,/\\*\\*\\*/p' | grep -v '\\*\\*' | sed 's/remote: //g' | xargs git start | grep -v Invalid || echo 'You have passed all exercises!'; fi else echo 'You need to use git start <exercise-name> in detached HEAD'; fi }; f\n",
      "verify = ! f() { currentBranch=$(git rev-parse --abbrev-ref HEAD); exercise=${1-$currentBranch}; if [ $exercise != HEAD ]; then if git show origin/$exercise:start.sh >/dev/null 2>&1 ; then if git status | grep -E 'ahead|detached' >/dev/null 2>&1 ; then if echo \"Verifying the $exercise exercise. Hold on...\" && git push -f origin HEAD:$exercise 2>&1 | sed -n '/\\*\\*\\*/,/\\*\\*\\*/p' | sed 's/remote: //g' | grep -v \"\\*\\*\" ; then : ; else echo 'Solution could not be verified - push failed.' && echo 'Do you have an internet connection?'; fi else echo \"You haven't made any progress on exercise $exercise.\" && echo 'Did you forget to commit your changes?'; fi else echo \"Invalid exercise: $exercise\"; fi else echo 'You need to use git verify <exercise-name> in detached HEAD'; fi }; f\n",
      "exercises = ! git push origin HEAD:exercises 2>&1 | sed -n '/\\*\\*\\*/,/\\*\\*\\*/p' | grep -v '\\*\\*' | sed 's/remote: //g'\n"
     ]
    }
   ],
   "source": [
    "%%script bash\n",
    "\n",
    "git config --global alias.alias \"! git config --get-regexp ^alias\\. | sed -e s/^alias\\.// -e s/\\ /\\ =\\ /\"\n",
    "git config --global alias.unstage 'reset HEAD --'\n",
    "git config --global alias.last 'log -1 HEAD'\n",
    "git config --global alias.l 'log --pretty=format:\"%C(yellow)%h\\\\ %ad%Cred%d\\\\ %Creset%s%Cblue\\\\ [%cn]\" --decorate --date=short'\n",
    "git config --global alias.ll 'log --pretty=format:\"%C(yellow)%h%Cred%d\\\\ %Creset%s%Cblue\\\\ [%cn]\" --decorate --numstat'\n",
    "git config --global alias.graphviz \"!f() { echo 'digraph git {' ; git log --pretty='format:  %h -> { %p }' \\\"$@\\\" | sed 's/[0-9a-f][0-9a-f]*/\\\"&\\\"/g' ; echo '}'; }; f\"\n",
    "git config --global alias.lg1 \"log --graph --abbrev-commit --decorate --format=format:'%C(bold blue)%h%C(reset) - %C(bold green)(%ar)%C(reset) %C(white)%s%C(reset) %C(dim white)- %an%C(reset)%C(bold yellow)%d%C(reset)' --all\"\n",
    "git config --global alias.lg2 \"log --graph --abbrev-commit --decorate --format=format:'%C(bold blue)%h%C(reset) - %C(bold cyan)%aD%C(reset) %C(bold green)(%ar)%C(reset)%C(bold yellow)%d%C(reset)%n''          %C(white)%s%C(reset) %C(dim white)- %an%C(reset)' --all\"\n",
    "git config --global alias.lg !\"git lg1\"\n",
    "git config --global alias.lg3-specific \"log --graph --abbrev-commit --decorate --format=format:'%C(bold blue)%h%C(reset) - %C(bold cyan)%aD%C(reset) %C(bold green)(%ar)%C(reset) %C(bold cyan)(committed: %cD)%C(reset) %C(auto)%d%C(reset)%n''          %C(white)%s%C(reset)%n''          %C(dim white)- %an <%ae> %C(reset) %C(dim white)(committer: %cn <%ce>)%C(reset)'\"\n",
    "git config --global alias.lg3 !\"git lg3-specific --all\"\n",
    "git alias"
   ]
  },
  {
   "cell_type": "markdown",
   "metadata": {
    "colab_type": "text",
    "id": "BgCsgRWEGX7e"
   },
   "source": [
    "# start the exercise\n",
    "1. run the code in the cell below. it should create a commit for you\n",
    "2. use `git show` or `git log -1` to see this commit "
   ]
  },
  {
   "cell_type": "code",
   "execution_count": 44,
   "metadata": {
    "colab": {
     "base_uri": "https://localhost:8080/",
     "height": 103
    },
    "colab_type": "code",
    "id": "AWMouuym75H0",
    "outputId": "a77bdba1-ea32-4bf3-d639-22c8a24c5df0"
   },
   "outputs": [
    {
     "name": "stdout",
     "output_type": "stream",
     "text": [
      "/bin/bash: ./configure.sh: No such file or directory\n",
      "Preparing the exercise environment, hold on...\n",
      "Exercise commit-one-file-staged started!\n",
      "Read the README.md for instructions or view them in browser:\n",
      "http://gitexercises.fracz.com/e/commit-one-file-staged\n"
     ]
    }
   ],
   "source": [
    "### useful: run this script\n",
    "!./configure.sh\n",
    "!git start"
   ]
  },
  {
   "cell_type": "code",
   "execution_count": 45,
   "metadata": {
    "colab": {
     "base_uri": "https://localhost:8080/",
     "height": 137
    },
    "colab_type": "code",
    "id": "USQILuwlGwNo",
    "outputId": "1ef6adf1-cd92-427b-d692-80135899086f"
   },
   "outputs": [
    {
     "name": "stdout",
     "output_type": "stream",
     "text": [
      "\u001b[33mcommit 1c1186c5643b613a86ae019f64c24543913eed36\u001b[m\u001b[33m (\u001b[m\u001b[1;36mHEAD -> \u001b[m\u001b[1;32mcommit-one-file-staged\u001b[m\u001b[33m, \u001b[m\u001b[1;31morigin/commit-one-file-staged\u001b[m\u001b[33m)\u001b[m\n",
      "Author: Wojciech Frącz <fraczwojciech@gmail.com>\n",
      "Date:   Sat Mar 21 00:18:06 2015 +0100\n",
      "\n",
      "    Ex: commit-one-file-staged\n",
      "You haven't made any progress on exercise commit-one-file-staged.\n",
      "Did you forget to commit your changes?\n"
     ]
    }
   ],
   "source": [
    "!git last\n",
    "!git verify"
   ]
  },
  {
   "cell_type": "markdown",
   "metadata": {
    "colab_type": "text",
    "id": "TtNnXtVWH3PD"
   },
   "source": [
    "# commit one file\n",
    "> start by executing `git start next`\n",
    "\n",
    "- There are two files created in the root project directory - A.txt and B.txt.\n",
    "- The goal is to commit only one of them.\n",
    "- NOTE: Remember that you can submit your solutions with `git verify` command instead of `git push`."
   ]
  },
  {
   "cell_type": "code",
   "execution_count": 34,
   "metadata": {
    "colab": {
     "base_uri": "https://localhost:8080/",
     "height": 499
    },
    "colab_type": "code",
    "id": "j0KhRJzcHxnu",
    "outputId": "eb80fea2-b4d1-4ce3-b594-2e7afafc38f2"
   },
   "outputs": [
    {
     "name": "stdout",
     "output_type": "stream",
     "text": [
      "Preparing the exercise environment, hold on...\n",
      "Exercise commit-one-file started!\n",
      "Read the README.md for instructions or view them in browser:\n",
      "http://gitexercises.fracz.com/e/commit-one-file\n",
      "On branch commit-one-file\n",
      "Your branch is up to date with 'origin/commit-one-file'.\n",
      "\n",
      "Untracked files:\n",
      "  (use \"git add <file>...\" to include in what will be committed)\n",
      "\n",
      "\t\u001b[31mA.txt\u001b[m\n",
      "\t\u001b[31mB.txt\u001b[m\n",
      "\n",
      "nothing added to commit but untracked files present (use \"git add\" to track)\n",
      "[commit-one-file d41d717] add A.txt\n",
      " 1 file changed, 1 insertion(+)\n",
      " create mode 100644 A.txt\n",
      "Verifying the commit-one-file exercise. Hold on...\n",
      "Exercise: commit-one-file\n",
      "Status: \u001b[42mPASSED\u001b[0m        \n",
      "You can see the easiest known solution and further info at:        \n",
      "https://gitexercises.fracz.com/e/commit-one-file/no8        \n",
      "\n",
      "Next task: commit-one-file-staged        \n",
      "In order to start, execute: \u001b[44mgit start next\u001b[0m\n",
      "\n",
      "See your progress and instructions at:\n",
      "https://gitexercises.fracz.com/c/no8\n"
     ]
    }
   ],
   "source": [
    "# commit one file\n",
    "!git start commit-one-file\n",
    "!git status\n",
    "!git add A.txt\n",
    "!git commit -m 'add A.txt'\n",
    "!git verify"
   ]
  },
  {
   "cell_type": "markdown",
   "metadata": {
    "colab_type": "text",
    "id": "xWHzLA4HI4sD"
   },
   "source": [
    "# commit only one staged file\n",
    "> start by executing `git start commit-one-file-staged`\n",
    "\n",
    "- There are two files created in the root project directory - A.txt and B.txt. They are __both already added__ to the staging area.\n",
    "- The goal is to commit __only one of them__"
   ]
  },
  {
   "cell_type": "code",
   "execution_count": 46,
   "metadata": {
    "colab": {
     "base_uri": "https://localhost:8080/",
     "height": 481
    },
    "colab_type": "code",
    "id": "zQMsxLo7Innw",
    "outputId": "68599fde-ac4a-4c2b-cfdd-1f604c280979"
   },
   "outputs": [
    {
     "name": "stdout",
     "output_type": "stream",
     "text": [
      "Preparing the exercise environment, hold on...\n",
      "Exercise commit-one-file-staged started!\n",
      "Read the README.md for instructions or view them in browser:\n",
      "http://gitexercises.fracz.com/e/commit-one-file-staged\n",
      "On branch commit-one-file-staged\n",
      "Your branch is up to date with 'origin/commit-one-file-staged'.\n",
      "\n",
      "Changes to be committed:\n",
      "  (use \"git reset HEAD <file>...\" to unstage)\n",
      "\n",
      "\tnew file:   A.txt\n",
      "\tnew file:   B.txt\n",
      "\n",
      "[commit-one-file-staged 1d7f828] improve A.txt\n",
      " 1 file changed, 1 insertion(+)\n",
      " create mode 100644 A.txt\n",
      "Verifying the commit-one-file-staged exercise. Hold on...\n",
      "Exercise: commit-one-file-staged\n",
      "Status: \u001b[42mPASSED\u001b[0m        \n",
      "You can see the easiest known solution and further info at:        \n",
      "https://gitexercises.fracz.com/e/commit-one-file-staged/no8        \n",
      "\n",
      "Next task: ignore-them        \n",
      "In order to start, execute: \u001b[44mgit start next\u001b[0m\n",
      "\n",
      "See your progress and instructions at:\n",
      "https://gitexercises.fracz.com/c/no8\n"
     ]
    }
   ],
   "source": [
    "%%script bash\n",
    "\n",
    "git start commit-one-file-staged\n",
    "git status\n",
    "git unstage B.txt\n",
    "git status\n",
    "git commit -m 'improve A.txt'\n",
    "git verify"
   ]
  },
  {
   "cell_type": "markdown",
   "metadata": {
    "colab_type": "text",
    "id": "ZJER0DrwNPcw"
   },
   "source": [
    "# git ignore\n",
    "> execute `git start ignore-them`\n",
    "\n",
    "it is often good idea to tell Git which files it should track and which it should not. Developers almost always do not want to include generated files, compiled code or libraries into their project history.\n",
    "\n",
    "- Your task is to create and commit configuration that would ignore:\n",
    "    1. all files with exe extension\n",
    "    1. all files with o extension\n",
    "    1. all files with jar extension\n",
    "    1. the whole libraries directory\n",
    "\n",
    "Sample files are generated for you."
   ]
  },
  {
   "cell_type": "code",
   "execution_count": 54,
   "metadata": {
    "colab": {
     "base_uri": "https://localhost:8080/",
     "height": 292
    },
    "colab_type": "code",
    "id": "gG9abX10Nf2D",
    "outputId": "cf429540-6686-432d-95d5-8b2a0c22a049"
   },
   "outputs": [
    {
     "name": "stdout",
     "output_type": "stream",
     "text": [
      "Preparing the exercise environment, hold on...\n",
      "Exercise ignore-them started!\n",
      "Read the README.md for instructions or view them in browser:\n",
      "http://gitexercises.fracz.com/e/ignore-them\n",
      "On branch ignore-them\n",
      "Your branch is up to date with 'origin/ignore-them'.\n",
      "\n",
      "Untracked files:\n",
      "  (use \"git add <file>...\" to include in what will be committed)\n",
      "\n",
      "\tfile.txt\n",
      "\tlibraries/\n",
      "\toutput.o\n",
      "\tprogram.exe\n",
      "\n",
      "nothing added to commit but untracked files present (use \"git add\" to track)\n"
     ]
    }
   ],
   "source": [
    "%%script bash\n",
    "\n",
    "git start ignore-them\n",
    "git status"
   ]
  },
  {
   "cell_type": "code",
   "execution_count": 55,
   "metadata": {
    "colab": {
     "base_uri": "https://localhost:8080/",
     "height": 34
    },
    "colab_type": "code",
    "id": "KANbdAGRPasw",
    "outputId": "4ef1d638-3190-4aed-fa79-4f326a3acd8d"
   },
   "outputs": [
    {
     "name": "stdout",
     "output_type": "stream",
     "text": [
      "Writing .gitignore\n"
     ]
    }
   ],
   "source": [
    "%%file .gitignore\n",
    "\n",
    "*.exe\n",
    "*.o\n",
    "*.jar\n",
    "libraries/"
   ]
  },
  {
   "cell_type": "code",
   "execution_count": 57,
   "metadata": {
    "colab": {
     "base_uri": "https://localhost:8080/",
     "height": 430
    },
    "colab_type": "code",
    "id": "aJquiKJvPn6X",
    "outputId": "dd8ce5db-6a9c-4af1-dbcb-a335ddc9131f"
   },
   "outputs": [
    {
     "name": "stdout",
     "output_type": "stream",
     "text": [
      "On branch ignore-them\n",
      "Your branch is up to date with 'origin/ignore-them'.\n",
      "\n",
      "Untracked files:\n",
      "  (use \"git add <file>...\" to include in what will be committed)\n",
      "\n",
      "\t.gitignore\n",
      "\tfile.txt\n",
      "\n",
      "nothing added to commit but untracked files present (use \"git add\" to track)\n",
      "[ignore-them 3378f42] ignore generated files\n",
      " 1 file changed, 5 insertions(+)\n",
      " create mode 100644 .gitignore\n",
      "Verifying the ignore-them exercise. Hold on...\n",
      "Exercise: ignore-them\n",
      "Status: \u001b[42mPASSED\u001b[0m        \n",
      "You can see the easiest known solution and further info at:        \n",
      "https://gitexercises.fracz.com/e/ignore-them/no8        \n",
      "\n",
      "Next task: chase-branch        \n",
      "In order to start, execute: \u001b[44mgit start next\u001b[0m\n",
      "\n",
      "See your progress and instructions at:        \n",
      "https://gitexercises.fracz.com/c/no8        \n"
     ]
    }
   ],
   "source": [
    "%%script bash\n",
    "git status\n",
    "git add .gitignore\n",
    "git commit -m 'ignore generated files'\n",
    "git verify"
   ]
  },
  {
   "cell_type": "markdown",
   "metadata": {
    "colab_type": "text",
    "id": "jMGo42JENehl"
   },
   "source": [
    "# chase branch that escaped\n",
    "> execute `git start chase-branch`\n",
    "\n",
    "You are currently on `chase-branch` branch. There is also `escaped` branch that has two more commits.\n",
    "```\n",
    "\n",
    "   HEAD\n",
    "     |\n",
    "chase-branch        escaped\n",
    "     |                 |\n",
    "     A <----- B <----- C\n",
    "```\n",
    "\n",
    "You want to make chase-branch to point to the same commit as the escaped branch.\n",
    "\n",
    "```\n",
    "\n",
    "                    escaped\n",
    "                       |\n",
    "     A <----- B <----- C\n",
    "                       |\n",
    "                  chase-branch\n",
    "                       |\n",
    "                      HEAD\n",
    "```"
   ]
  },
  {
   "cell_type": "code",
   "execution_count": 134,
   "metadata": {
    "colab": {
     "base_uri": "https://localhost:8080/",
     "height": 705
    },
    "colab_type": "code",
    "id": "hYRNVxyc8E_C",
    "outputId": "368c905c-bb41-4df1-950f-53d0ea5647f4"
   },
   "outputs": [
    {
     "data": {
      "text/html": [
       "<script src='https://cdnjs.cloudflare.com/ajax/libs/gitgraph.js/1.11.4/gitgraph.min.js'></script>"
      ],
      "text/plain": [
       "<IPython.core.display.HTML object>"
      ]
     },
     "metadata": {
      "tags": []
     },
     "output_type": "display_data"
    },
    {
     "name": "stdout",
     "output_type": "stream",
     "text": [
      "Preparing the exercise environment, hold on...\n",
      "Exercise chase-branch started!\n",
      "Read the README.md for instructions or view them in browser:\n",
      "http://gitexercises.fracz.com/e/chase-branch\n",
      "git: 'lg1' is not a git command. See 'git --help'.\n",
      "\n",
      "The most similar commands are\n",
      "\tlg2\n",
      "\tlg3\n",
      "* \u001b[32mchase-branch\u001b[m\n",
      "  commit-one-file\u001b[m\n",
      "  commit-one-file-staged\u001b[m\n",
      "  escaped\u001b[m\n",
      "  fast-bugfix\u001b[m\n",
      "  ignore-them\u001b[m\n",
      "  master\u001b[m\n",
      "  merge-conflict\u001b[m\n",
      "Switched to branch 'escaped'\n",
      "\u001b[33me9ec89d\\ 2019-12-31\u001b[31m (HEAD -> escaped)\\ \u001b[mSecond escaped commit\u001b[34m\\ [Aviad]\n",
      "\u001b[33m64ad7dc\\ 2019-12-31\u001b[31m\\ \u001b[mFirst escaped commit\u001b[34m\\ [Aviad]\n",
      "\u001b[33m0d3aec7\\ 2015-04-02\u001b[31m (origin/chase-branch, chase-branch)\\ \u001b[mEx: chase-branch\u001b[34m\\ [Wojciech Frącz]\n",
      "\u001b[33m8fbeef9\\ 2015-03-22\u001b[31m (tag: exercise-base)\\ \u001b[mExercise base\u001b[34m\\ [Wojciech Frącz]\n",
      "\u001b[33md0f3fe9\\ 2015-03-16\u001b[31m\\ \u001b[mInitial commit\u001b[34m\\ [Wojciech Frącz]Switched to branch 'chase-branch'\n",
      "Your branch is up to date with 'origin/chase-branch'.\n",
      "Updating 0d3aec7..e9ec89d\n",
      "Fast-forward\n",
      " file.txt | 2 \u001b[32m++\u001b[m\n",
      " 1 file changed, 2 insertions(+)\n",
      " create mode 100644 file.txt\n",
      "Verifying the chase-branch exercise. Hold on...\n",
      "Exercise: chase-branch\n",
      "Status: \u001b[42mPASSED\u001b[0m        \n",
      "You can see the easiest known solution and further info at:        \n",
      "https://gitexercises.fracz.com/e/chase-branch/no8        \n",
      "\n",
      "Next task: merge-conflict        \n",
      "In order to start, execute: \u001b[44mgit start next\u001b[0m\n",
      "\n",
      "See your progress and instructions at:\n",
      "https://gitexercises.fracz.com/c/no8\n"
     ]
    }
   ],
   "source": [
    "!git start chase-branch\n",
    "# where are we?\n",
    "!git lg -5\n",
    "\n",
    "# what branches are available?\n",
    "!git branch\n",
    "\n",
    "# what's happening on the 'escaped' branch?\n",
    "!git checkout escaped\n",
    "!git l\n",
    "\n",
    "# merge escaped into master\n",
    "!git checkout chase-branch\n",
    "!git merge escaped\n",
    "\n",
    "!git verify"
   ]
  },
  {
   "cell_type": "markdown",
   "metadata": {
    "colab_type": "text",
    "id": "_bzvbBztWJNx"
   },
   "source": [
    "# merge conflict\n",
    "> execute `git start merge-conflict`\n",
    "\n",
    "Merge conflict appears when you changed the same part of the same file differently in the two branches you're merging together. Conflicts require developer to solve them by hand.\n",
    "\n",
    "Your repository looks like this:\n",
    "```\n",
    "\n",
    "        HEAD\n",
    "         |\n",
    "    merge-conflict\n",
    "         |\n",
    "A <----- B\n",
    " \\\n",
    "  \\----- C\n",
    "         |\n",
    "     fast-bugfix\n",
    "```\n",
    "\n",
    "You want to merge `fast-bugfix` into your current branch. This will cause conflict which you have to resolve. Your repository should look like this:\n",
    "\n",
    "```\n",
    "\n",
    "                 HEAD\n",
    "                  |\n",
    "             merge-conflict\n",
    "                  |\n",
    "A <----- B <----- D\n",
    " \\               /\n",
    "  \\----- C <----/\n",
    "         |\n",
    "     fast-bugfix\n",
    "```\n",
    "\n",
    "The `file.txt` should contain text `Hola mundo` after correct conflict resolution."
   ]
  },
  {
   "cell_type": "code",
   "execution_count": 148,
   "metadata": {
    "colab": {
     "base_uri": "https://localhost:8080/",
     "height": 983
    },
    "colab_type": "code",
    "id": "CaQx3AanWbVB",
    "outputId": "3a547077-0462-4cbb-bf2d-1f411a1728e9"
   },
   "outputs": [
    {
     "data": {
      "text/html": [
       "<script src='https://cdnjs.cloudflare.com/ajax/libs/gitgraph.js/1.11.4/gitgraph.min.js'></script>"
      ],
      "text/plain": [
       "<IPython.core.display.HTML object>"
      ]
     },
     "metadata": {
      "tags": []
     },
     "output_type": "display_data"
    },
    {
     "name": "stdout",
     "output_type": "stream",
     "text": [
      "Preparing the exercise environment, hold on...\n",
      "Exercise merge-conflict started!\n",
      "Read the README.md for instructions or view them in browser:\n",
      "http://gitexercises.fracz.com/e/merge-conflict\n",
      "  chase-branch\u001b[m\n",
      "  commit-one-file\u001b[m\n",
      "  commit-one-file-staged\u001b[m\n",
      "  escaped\u001b[m\n",
      "  fast-bugfix\u001b[m\n",
      "  ignore-them\u001b[m\n",
      "  master\u001b[m\n",
      "* \u001b[32mmerge-conflict\u001b[m\n",
      "* \u001b[1;34mc6f00e6\u001b[m - \u001b[1;32m(3 seconds ago)\u001b[m \u001b[37mChanged Hello to Hola\u001b[m \u001b[2;37m- Aviad\u001b[m\u001b[1;33m (fast-bugfix)\u001b[m\n",
      "\u001b[31m|\u001b[m * \u001b[1;34md5f0bdf\u001b[m - \u001b[1;32m(3 seconds ago)\u001b[m \u001b[37mChanged world to mundo\u001b[m \u001b[2;37m- Aviad\u001b[m\u001b[1;33m (HEAD -> merge-conflict)\u001b[m\n",
      "\u001b[31m|\u001b[m\u001b[31m/\u001b[m  \n",
      "* \u001b[1;34mf853a5b\u001b[m - \u001b[1;32m(3 seconds ago)\u001b[m \u001b[37mAdd Hello world\u001b[m \u001b[2;37m- Aviad\u001b[m\u001b[1;33m\u001b[m\n",
      "* \u001b[1;34mc90b6a1\u001b[m - \u001b[1;32m(4 years, 9 months ago)\u001b[m \u001b[37mEx: merge-conflict\u001b[m \u001b[2;37m- Wojciech Frącz\u001b[m\u001b[1;33m (origin/merge-conflict)\u001b[m\n",
      "\u001b[32m|\u001b[m * \u001b[1;34me9ec89d\u001b[m - \u001b[1;32m(11 minutes ago)\u001b[m \u001b[37mSecond escaped commit\u001b[m \u001b[2;37m- Aviad\u001b[m\u001b[1;33m (escaped, chase-branch)\u001b[mAuto-merging file.txt\n",
      "CONFLICT (content): Merge conflict in file.txt\n",
      "Automatic merge failed; fix conflicts and then commit the result.\n",
      "<<<<<<< HEAD\n",
      "Hello mundo\n",
      "=======\n",
      "Hola world\n",
      ">>>>>>> fast-bugfix\n",
      "* \u001b[1;34mc6f00e6\u001b[m - \u001b[1;32m(7 seconds ago)\u001b[m \u001b[37mChanged Hello to Hola\u001b[m \u001b[2;37m- Aviad\u001b[m\u001b[1;33m (fast-bugfix)\u001b[m\n",
      "\u001b[31m|\u001b[m * \u001b[1;34md5f0bdf\u001b[m - \u001b[1;32m(7 seconds ago)\u001b[m \u001b[37mChanged world to mundo\u001b[m \u001b[2;37m- Aviad\u001b[m\u001b[1;33m (HEAD -> merge-conflict)\u001b[m\n",
      "\u001b[31m|\u001b[m\u001b[31m/\u001b[m  \n",
      "* \u001b[1;34mf853a5b\u001b[m - \u001b[1;32m(7 seconds ago)\u001b[m \u001b[37mAdd Hello world\u001b[m \u001b[2;37m- Aviad\u001b[m\u001b[1;33m\u001b[m\n",
      "* \u001b[1;34mc90b6a1\u001b[m - \u001b[1;32m(4 years, 9 months ago)\u001b[m \u001b[37mEx: merge-conflict\u001b[m \u001b[2;37m- Wojciech Frącz\u001b[m\u001b[1;33m (origin/merge-conflict)\u001b[m\n",
      "\u001b[32m|\u001b[m * \u001b[1;34me9ec89d\u001b[m - \u001b[1;32m(11 minutes ago)\u001b[m \u001b[37mSecond escaped commit\u001b[m \u001b[2;37m- Aviad\u001b[m\u001b[1;33m (escaped, chase-branch)\u001b[m[merge-conflict 3c6d7c1] Merge branch 'fast-bugfix' into merge-conflict\n",
      "Verifying the merge-conflict exercise. Hold on...\n",
      "Exercise: merge-conflict\n",
      "Status: \u001b[42mPASSED\u001b[0m        \n",
      "You can see the easiest known solution and further info at:        \n",
      "https://gitexercises.fracz.com/e/merge-conflict/no8        \n",
      "\n",
      "Next task: save-your-work        \n",
      "In order to start, execute: \u001b[44mgit start next\u001b[0m\n",
      "\n",
      "See your progress and instructions at:\n",
      "https://gitexercises.fracz.com/c/no8\n",
      "\u001b[33m3c6d7c1\u001b[31m (HEAD -> merge-conflict)\\ \u001b[mMerge branch 'fast-bugfix' into merge-conflict\u001b[34m\\ [Aviad]\n",
      "\u001b[33md5f0bdf\u001b[31m\\ \u001b[mChanged world to mundo\u001b[34m\\ [Aviad]\n",
      "1\t1\tfile.txt\n",
      "\n",
      "\u001b[33mc6f00e6\u001b[31m (fast-bugfix)\\ \u001b[mChanged Hello to Hola\u001b[34m\\ [Aviad]\n",
      "1\t1\tfile.txt\n",
      "\n",
      "\u001b[33mf853a5b\u001b[31m\\ \u001b[mAdd Hello world\u001b[34m\\ [Aviad]\n",
      "1\t0\tfile.txt\n",
      "\n",
      "\u001b[33mc90b6a1\u001b[31m (origin/merge-conflict)\\ \u001b[mEx: merge-conflict\u001b[34m\\ [Wojciech Frącz]\n",
      "30\t1\tREADME.md\n",
      "10\t0\tstart.sh\n"
     ]
    }
   ],
   "source": [
    "!git start merge-conflict\n",
    "\n",
    "# where are we?\n",
    "!git branch\n",
    "!git lg -5\n",
    "\n",
    "# merge fast-bugfix into our branch\n",
    "!git merge fast-bugfix\n",
    "\n",
    "# oh oh, merge conflict in file.txt\n",
    "# lets review the changes\n",
    "!cat file.txt\n",
    "\n",
    "# looks like this happened\n",
    "!git lg -5\n",
    "# revision 39c47fc changed hello to hola\n",
    "# revision 97957ec  changed world to muno\n",
    "# output should be hola mundo\n",
    "Path('file.txt').write_text('Hola mundo\\n')\n",
    "\n",
    "# mark resolved\n",
    "!git add file.txt\n",
    "!git commit --no-edit\n",
    "!git verify\n",
    "\n",
    "!git l -5"
   ]
  },
  {
   "cell_type": "markdown",
   "metadata": {
    "colab_type": "text",
    "id": "tApeS_GIo7j9"
   },
   "source": [
    "# save-your-work\n",
    "> execute `git start save-your-work`\n",
    "\n",
    "You are working hard on a regular issue while your boss comes in and wants you to fix a bug. State of your current working area is a total mess so you don't feel comfortable with making a commit now. However, you need to fix the found bug ASAP.\n",
    "\n",
    "Git lets you to save your work on a side and continue it later. Find appropriate Git tool and use it to handle the situation appropriately.\n",
    "\n",
    "Look for a bug to remove in bug.txt.\n",
    "\n",
    "After you commit the bugfix, get back to your work. Finish it by adding a new line to `bug.txt` with\n",
    "```\n",
    "Finally, finished it!\n",
    "```\n",
    "Then, commit your work after bugfix."
   ]
  },
  {
   "cell_type": "code",
   "execution_count": 154,
   "metadata": {
    "colab": {
     "base_uri": "https://localhost:8080/",
     "height": 1000
    },
    "colab_type": "code",
    "id": "_AMVIeGLpWcZ",
    "outputId": "70ffda04-f406-4546-d8ee-f9e7212e396a"
   },
   "outputs": [
    {
     "data": {
      "text/html": [
       "<script src='https://cdnjs.cloudflare.com/ajax/libs/gitgraph.js/1.11.4/gitgraph.min.js'></script>"
      ],
      "text/plain": [
       "<IPython.core.display.HTML object>"
      ]
     },
     "metadata": {
      "tags": []
     },
     "output_type": "display_data"
    },
    {
     "name": "stdout",
     "output_type": "stream",
     "text": [
      "Preparing the exercise environment, hold on...\n",
      "Exercise save-your-work started!\n",
      "Read the README.md for instructions or view them in browser:\n",
      "http://gitexercises.fracz.com/e/save-your-work\n",
      "On branch save-your-work\n",
      "Your branch is ahead of 'origin/save-your-work' by 1 commit.\n",
      "  (use \"git push\" to publish your local commits)\n",
      "\n",
      "Changes not staged for commit:\n",
      "  (use \"git add <file>...\" to update what will be committed)\n",
      "  (use \"git checkout -- <file>...\" to discard changes in working directory)\n",
      "\n",
      "\t\u001b[31mmodified:   bug.txt\u001b[m\n",
      "\t\u001b[31mmodified:   program.txt\u001b[m\n",
      "\n",
      "no changes added to commit (use \"git add\" and/or \"git commit -a\")\n",
      "Saved working directory and index state WIP on save-your-work: 5bb2235 Excellent version with a bug\n",
      "This file contains bug\n",
      "It has to be somewhere.\n",
      "I feel like I can smell it.\n",
      "THIS IS A BUG - remove the whole line to fix it.\n",
      "How this program could work with such bug?\n",
      "\u001b[1mdiff --git a/bug.txt b/bug.txt\u001b[m\n",
      "\u001b[1mindex 16c9159..fb47b44 100644\u001b[m\n",
      "\u001b[1m--- a/bug.txt\u001b[m\n",
      "\u001b[1m+++ b/bug.txt\u001b[m\n",
      "\u001b[36m@@ -1,5 +1,4 @@\u001b[m\n",
      " This file contains bug\u001b[m\n",
      " It has to be somewhere.\u001b[m\n",
      " I feel like I can smell it.\u001b[m\n",
      "\u001b[31m-THIS IS A BUG - remove the whole line to fix it.\u001b[m\n",
      " How this program could work with such bug?\u001b[m\n",
      "[save-your-work d674e87] fixed bug\n",
      " 1 file changed, 1 deletion(-)\n",
      "Auto-merging bug.txt\n",
      "On branch save-your-work\n",
      "Your branch is ahead of 'origin/save-your-work' by 2 commits.\n",
      "  (use \"git push\" to publish your local commits)\n",
      "\n",
      "Changes not staged for commit:\n",
      "  (use \"git add <file>...\" to update what will be committed)\n",
      "  (use \"git checkout -- <file>...\" to discard changes in working directory)\n",
      "\n",
      "\t\u001b[31mmodified:   bug.txt\u001b[m\n",
      "\t\u001b[31mmodified:   program.txt\u001b[m\n",
      "\n",
      "no changes added to commit (use \"git add\" and/or \"git commit -a\")\n",
      "Dropped refs/stash@{0} (bed175d660890aa1306074aef24b60da2d7f4ed3)\n",
      "[save-your-work 5ad8566] more work\n",
      " 2 files changed, 7 insertions(+), 2 deletions(-)\n",
      "Verifying the save-your-work exercise. Hold on...\n",
      "Exercise: save-your-work\n",
      "Status: \u001b[42mPASSED\u001b[0m        \n",
      "You can see the easiest known solution and further info at:        \n",
      "https://gitexercises.fracz.com/e/save-your-work/no8        \n",
      "\n",
      "Next task: change-branch-history        \n",
      "In order to start, execute: \u001b[44mgit start next\u001b[0m\n",
      "\n",
      "See your progress and instructions at:        \n",
      "https://gitexercises.fracz.com/c/no8        \n"
     ]
    }
   ],
   "source": [
    "!git start save-your-work\n",
    "\n",
    "# what are my changes\n",
    "!git status\n",
    "\n",
    "# too many changes, lets stash them\n",
    "!git stash\n",
    "!cat bug.txt\n",
    "\n",
    "# the last line is the bug\n",
    "Path('bug.txt').write_text(\"\"\"\\\n",
    "This file contains bug\n",
    "It has to be somewhere.\n",
    "I feel like I can smell it.\n",
    "How this program could work with such bug?\n",
    "\"\"\")\n",
    "\n",
    "!git diff\n",
    "!git add bug.txt\n",
    "!git commit -m 'fixed bug'\n",
    "\n",
    "!git stash pop\n",
    "with open('bug.txt', 'a') as f:\n",
    "    print('Finally, finished it!', file=f)\n",
    "\n",
    "!git add .\n",
    "!git commit -m 'more work'\n",
    "\n",
    "!git verify"
   ]
  },
  {
   "cell_type": "code",
   "execution_count": 0,
   "metadata": {
    "colab": {},
    "colab_type": "code",
    "id": "KjiD7xVk3Esw"
   },
   "outputs": [],
   "source": []
  }
 ],
 "metadata": {
  "colab": {
   "name": "solutions.ipynb",
   "provenance": []
  },
  "kernelspec": {
   "display_name": "Python 3",
   "name": "python3"
  }
 },
 "nbformat": 4,
 "nbformat_minor": 0
}
